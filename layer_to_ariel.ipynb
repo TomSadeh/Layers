{
 "cells": [
  {
   "cell_type": "markdown",
   "metadata": {},
   "source": [
    "Importing pandas."
   ]
  },
  {
   "cell_type": "code",
   "execution_count": null,
   "metadata": {},
   "outputs": [],
   "source": [
    "import pandas as pd"
   ]
  },
  {
   "cell_type": "markdown",
   "metadata": {},
   "source": [
    "Creating the function to calculate a layer based on gender and age.\n",
    "The function will be fed with a partial DataFrame 4 times, each for each population group."
   ]
  },
  {
   "cell_type": "code",
   "execution_count": null,
   "metadata": {},
   "outputs": [],
   "source": [
    "def calc_shichva(df_work, index = 1):\n",
    "    gender_list = [1,2]\n",
    "    age_list = [1,3,5,7,9,10,11]\n",
    "    for gender in gender_list:\n",
    "        for age in age_list:\n",
    "            if age in [1,10,11]:\n",
    "                temp = df_work.loc[(df_work['Minn'] == gender) & (df_work['Gil'] == age)]\n",
    "                temp['shichva'] = index\n",
    "                df_work.loc[(df_work['Minn'] == gender) & (df_work['Gil'] == age)] = temp\n",
    "            else:\n",
    "               temp = df_work.loc[(df_work['Minn'] == gender) & (df_work['Gil'].isin([age, age-1]))]\n",
    "               temp['shichva'] = index\n",
    "               df_work.loc[(df['Minn'] == gender) & (df_work['Gil'].isin([age, age-1]))] = temp\n",
    "            index += 1\n",
    "    return df_work, index"
   ]
  },
  {
   "cell_type": "markdown",
   "metadata": {},
   "source": [
    "Reading the CSV file and creating an empty DataFrame to contain the results."
   ]
  },
  {
   "cell_type": "code",
   "execution_count": null,
   "metadata": {},
   "outputs": [],
   "source": [
    "df = pd.read_csv(r'C:\\Users\\User\\Google Drive\\k_data\\CBS Social Survey\\2019\\H20191423data.csv')\n",
    "df['shichva'] = 0\n",
    "results = pd.DataFrame()"
   ]
  },
  {
   "cell_type": "markdown",
   "metadata": {},
   "source": [
    "The first group, Tzabar Jews."
   ]
  },
  {
   "cell_type": "code",
   "execution_count": null,
   "metadata": {},
   "outputs": [],
   "source": [
    "r = calc_shichva(df[((df['Pop_Group'] == 1) & (df['SemelEretz'] == 1)) | ((df['Pop_Group'] == 1) & (df['SemelEretz'] !=1 ) & (df['ShnatAliya'] <= 6))])\n",
    "results = pd.concat([r[0], results])"
   ]
  },
  {
   "cell_type": "markdown",
   "metadata": {},
   "source": [
    "The second group, Olim Jews."
   ]
  },
  {
   "cell_type": "code",
   "execution_count": null,
   "metadata": {},
   "outputs": [],
   "source": [
    "r = calc_shichva(df[(df['Pop_Group'] == 1) & (df['SemelEretz'] != 1) & (df['ShnatAliya'] > 6)], index = r[1])\n",
    "results = pd.concat([r[0], results])"
   ]
  },
  {
   "cell_type": "markdown",
   "metadata": {},
   "source": [
    "the third group, Non-East-Jerusalem Arabs"
   ]
  },
  {
   "cell_type": "code",
   "execution_count": null,
   "metadata": {},
   "outputs": [],
   "source": [
    "r = calc_shichva(df[(df['Pop_Group'] == 2) &  (df['Zurat_Yishuv'] != 1)], index = r[1])\n",
    "results = pd.concat([r[0], results])"
   ]
  },
  {
   "cell_type": "markdown",
   "metadata": {},
   "source": [
    "The fourth group, East-Jerusalem Arabs"
   ]
  },
  {
   "cell_type": "code",
   "execution_count": null,
   "metadata": {},
   "outputs": [],
   "source": [
    "r = calc_shichva(df[(df['Pop_Group'] == 2) &  (df['Zurat_Yishuv'] == 1)], index = r[1])\n",
    "results = pd.concat([r[0], results])"
   ]
  },
  {
   "cell_type": "markdown",
   "metadata": {},
   "source": [
    "Exporting the results."
   ]
  },
  {
   "cell_type": "code",
   "execution_count": null,
   "metadata": {},
   "outputs": [],
   "source": [
    "results.sort_index(inplace = True)\n",
    "results['shichva'].to_csv(r'C:\\Users\\User\\Documents\\Projects\\result_shchavot.csv')"
   ]
  }
 ],
 "metadata": {
  "kernelspec": {
   "display_name": "Python 3",
   "language": "python",
   "name": "python3"
  },
  "language_info": {
   "codemirror_mode": {
    "name": "ipython",
    "version": 3
   },
   "file_extension": ".py",
   "mimetype": "text/x-python",
   "name": "python",
   "nbconvert_exporter": "python",
   "pygments_lexer": "ipython3",
   "version": "3.8.3"
  }
 },
 "nbformat": 4,
 "nbformat_minor": 4
}
